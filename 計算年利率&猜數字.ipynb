{
 "cells": [
  {
   "cell_type": "code",
   "execution_count": 9,
   "metadata": {},
   "outputs": [
    {
     "name": "stdout",
     "output_type": "stream",
     "text": [
      "139年後本金為20002\n"
     ]
    }
   ],
   "source": [
    "#計算年利率\n",
    "money = 10000\n",
    "y = 0\n",
    "while money <= 20000:\n",
    "    money *= 1.005\n",
    "    y += 1\n",
    "print (\"%d年後本金為%d\" %(y,money))"
   ]
  },
  {
   "cell_type": "code",
   "execution_count": null,
   "metadata": {},
   "outputs": [],
   "source": [
    "#猜數字\n",
    "import random\n",
    "anser = random.randint(1,100)\n",
    "guess = -1\n",
    "max = 100\n",
    "min = 1\n",
    "count = 1\n",
    "while True:\n",
    "    guess = int(input(\"%d.請猜一個%d~%d的數字:\" %(count,min,max)))\n",
    "    if guess == anser:\n",
    "        print (\"正確\")\n",
    "        break\n",
    "    else:\n",
    "        print(\"錯誤\")\n",
    "        count += 1\n",
    "        if guess > anser:\n",
    "            max = guess\n",
    "        else:\n",
    "            min = guess"
   ]
  }
 ],
 "metadata": {
  "kernelspec": {
   "display_name": "Python 3",
   "language": "python",
   "name": "python3"
  },
  "language_info": {
   "codemirror_mode": {
    "name": "ipython",
    "version": 3
   },
   "file_extension": ".py",
   "mimetype": "text/x-python",
   "name": "python",
   "nbconvert_exporter": "python",
   "pygments_lexer": "ipython3",
   "version": "3.6.5"
  }
 },
 "nbformat": 4,
 "nbformat_minor": 2
}
