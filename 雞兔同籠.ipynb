{
 "cells": [
  {
   "cell_type": "code",
   "execution_count": 8,
   "metadata": {},
   "outputs": [
    {
     "name": "stdout",
     "output_type": "stream",
     "text": [
      "雞有 23 隻,兔有 12 隻\n"
     ]
    }
   ],
   "source": [
    "#雞兔同籠。若有35個頭，94隻腳，問共有幾隻雞？幾隻兔？\n",
    "for chichen in range (0,36):\n",
    "    rabbit = 35 - chichen\n",
    "    if (2*chichen + 4*rabbit) == 94:\n",
    "        print (\"雞有\",chichen,\"隻,兔有\",rabbit,\"隻\")\n",
    "        break\n",
    "else:\n",
    "    print(\"無解\")"
   ]
  }
 ],
 "metadata": {
  "kernelspec": {
   "display_name": "Python 3",
   "language": "python",
   "name": "python3"
  },
  "language_info": {
   "codemirror_mode": {
    "name": "ipython",
    "version": 3
   },
   "file_extension": ".py",
   "mimetype": "text/x-python",
   "name": "python",
   "nbconvert_exporter": "python",
   "pygments_lexer": "ipython3",
   "version": "3.6.5"
  }
 },
 "nbformat": 4,
 "nbformat_minor": 2
}
