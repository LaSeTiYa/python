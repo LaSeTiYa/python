{
 "cells": [
  {
   "cell_type": "code",
   "execution_count": 2,
   "metadata": {},
   "outputs": [
    {
     "name": "stdout",
     "output_type": "stream",
     "text": [
      "<class 'int'> <class 'float'> <class 'str'>\n",
      "1522822208 1501321153056 1501264165608\n"
     ]
    }
   ],
   "source": [
    "#python 畫圖\n",
    "import matplotlib.pyplot as pt\n",
    "x=[3,5,7,9]\n",
    "y=[2,4,6,8]\n",
    "pt.plot(x,y)\n",
    "pt.plot(x,\"r--\")\n",
    "pt.plot(y,\"b^\")\n",
    "pt.show()"
   ]
  },
  {
   "cell_type": "code",
   "execution_count": 4,
   "metadata": {},
   "outputs": [
    {
     "data": {
      "text/plain": [
       "<Figure size 640x480 with 1 Axes>"
      ]
     },
     "metadata": {},
     "output_type": "display_data"
    }
   ],
   "source": [
    "#python 畫圖\n",
    "import matplotlib.pyplot as pt\n",
    "import numpy as np\n",
    "x=np.random.rand(10)\n",
    "y=np.random.rand(10)\n",
    "pt.scatter(x,y)\n",
    "pt.show()"
   ]
  },
  {
   "cell_type": "code",
   "execution_count": 5,
   "metadata": {},
   "outputs": [
    {
     "data": {
      "image/png": "[encoded data removed]",
      "text/plain": [
       "<Figure size 432x288 with 1 Axes>"
      ]
     },
     "metadata": {},
     "output_type": "display_data"
    }
   ],
   "source": [
    "#sin wave\n",
    "import matplotlib.pyplot as pt\n",
    "import numpy as np\n",
    "x=np.arange(0,360)\n",
    "y=np.sin(x*np.pi/180.0)\n",
    "pt.xlim(360,0)\n",
    "pt.ylim(-1.2,1.2)\n",
    "pt.plot(x,y)\n",
    "pt.show()"
   ]
  },
  {
   "cell_type": "code",
   "execution_count": null,
   "metadata": {},
   "outputs": [],
   "source": [
    "#sin wave\n",
    "import matplotlib.pyplot as pt\n",
    "import numpy as np\n",
    "x=np.arange(0,360)\n",
    "y=np.sin(x*np.pi/180.0)\n",
    "z=np.cos(x*np.pi/180.0)\n",
    "pt.xlim(360,0)\n",
    "pt.ylim(-1.2,1.2)\n",
    "pt.plot(x,y,label=\"Sin\")\n",
    "pt.plot(x,z,label=\"Cos\")\n",
    "pt.title(\"Sin & Cos\")\n",
    "pt.xlabel(\"Degree\")\n",
    "pt.ylabel(\"Value\")\n",
    "pt.legend()\n",
    "pt.show()"
   ]
  }
 ],
 "metadata": {
  "kernelspec": {
   "display_name": "Python 3",
   "language": "python",
   "name": "python3"
  },
  "language_info": {
   "codemirror_mode": {
    "name": "ipython",
    "version": 3
   },
   "file_extension": ".py",
   "mimetype": "text/x-python",
   "name": "python",
   "nbconvert_exporter": "python",
   "pygments_lexer": "ipython3",
   "version": "3.6.5"
  }
 },
 "nbformat": 4,
 "nbformat_minor": 2
}
