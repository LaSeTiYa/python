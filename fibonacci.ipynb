{
 "cells": [
  {
   "cell_type": "code",
   "execution_count": 8,
   "metadata": {},
   "outputs": [
    {
     "name": "stdout",
     "output_type": "stream",
     "text": [
      "雞有 23 隻,兔有 12 隻\n"
     ]
    }
   ],
   "source": [
    "#fibonacci\n",
    "count = int(input(\"輸入要加幾次:\"))\n",
    "f1 = 1\n",
    "f2 = 1\n",
    "tmp = 0\n",
    "for temp in range(1,count + 1):\n",
    "    if temp == 1:\n",
    "        print (f1)\n",
    "    elif temp == 2:\n",
    "        print (f2)\n",
    "    else:\n",
    "        tmp = f1 + f2\n",
    "        print (tmp)\n",
    "        f1 = f2\n",
    "        f2 = tmp"
   ]
  }
 ],
 "metadata": {
  "kernelspec": {
   "display_name": "Python 3",
   "language": "python",
   "name": "python3"
  },
  "language_info": {
   "codemirror_mode": {
    "name": "ipython",
    "version": 3
   },
   "file_extension": ".py",
   "mimetype": "text/x-python",
   "name": "python",
   "nbconvert_exporter": "python",
   "pygments_lexer": "ipython3",
   "version": "3.6.5"
  }
 },
 "nbformat": 4,
 "nbformat_minor": 2
}
