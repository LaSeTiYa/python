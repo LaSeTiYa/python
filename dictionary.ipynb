{
 "cells": [
  {
   "cell_type": "code",
   "execution_count": 17,
   "metadata": {},
   "outputs": [
    {
     "name": "stdout",
     "output_type": "stream",
     "text": [
      "('python', 'js', 'go')\n"
     ]
    }
   ],
   "source": [
    "dicttest={'name':'ban','age':20,'height':170,'weight':55}\n",
    "print(dicttest['name'])\n",
    "print(dicttest['age'])\n",
    "print(dicttest.keys())\n",
    "print(dicttest.values())\n",
    "a = ['name','age','height','weight']\n",
    "b =['ban',20,170,55]\n",
    "ab_dict = dict(zip(a,b))\n",
    "print(ab_dict)"
   ]
  }
 ],
 "metadata": {
  "kernelspec": {
   "display_name": "Python 3",
   "language": "python",
   "name": "python3"
  },
  "language_info": {
   "codemirror_mode": {
    "name": "ipython",
    "version": 3
   },
   "file_extension": ".py",
   "mimetype": "text/x-python",
   "name": "python",
   "nbconvert_exporter": "python",
   "pygments_lexer": "ipython3",
   "version": "3.6.5"
  }
 },
 "nbformat": 4,
 "nbformat_minor": 2
}
