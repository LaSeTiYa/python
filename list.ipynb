{
 "cells": [
  {
   "cell_type": "code",
   "execution_count": 15,
   "metadata": {},
   "outputs": [
    {
     "name": "stdout",
     "output_type": "stream",
     "text": [
      "28\n",
      "1\n",
      "9\n",
      "30\n",
      "24\n",
      "35\n"
     ]
    }
   ],
   "source": [
    "#list使用方式\n",
    "my_list=[\"a\",\"b\",\"c\"]\n",
    "my_list2=list(\"123\")\n",
    "for tmp in range(0,3):\n",
    "    print(my_list2[tmp])\n",
    "    \n",
    "print(my_list[-1]) #在python list中負數值是倒過來數位置，-1即最後一個\n",
    "#新增至最後\n",
    "print(my_list2)\n",
    "my_list2.append(\"d\")\n",
    "print(my_list2)\n",
    "#新增至指定位置\n",
    "print(my_list2)\n",
    "my_list2.insert(0,\"first\")\n",
    "print(my_list2)\n",
    "#刪除指定位置資料\n",
    "print(my_list2)\n",
    "del my_list2[-1]\n",
    "print(my_list2)\n",
    "#刪除符合輸入資料的第一個值\n",
    "my_list2.insert(0,\"first\")\n",
    "print(my_list2)\n",
    "my_list2.remove(\"first\")\n",
    "print(my_list2)"
   ]
  }
 ],
 "metadata": {
  "kernelspec": {
   "display_name": "Python 3",
   "language": "python",
   "name": "python3"
  },
  "language_info": {
   "codemirror_mode": {
    "name": "ipython",
    "version": 3
   },
   "file_extension": ".py",
   "mimetype": "text/x-python",
   "name": "python",
   "nbconvert_exporter": "python",
   "pygments_lexer": "ipython3",
   "version": "3.6.5"
  }
 },
 "nbformat": 4,
 "nbformat_minor": 2
}
